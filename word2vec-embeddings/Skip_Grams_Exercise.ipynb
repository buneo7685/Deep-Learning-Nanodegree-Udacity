{
 "cells": [
  {
   "cell_type": "markdown",
   "metadata": {},
   "source": [
    "# Character-Level LSTM in PyTorch\n",
    "\n",
    "In this notebook, I'll construct a character-level LSTM with PyTorch. The network will train character by character on some text, then generate new text character by character. As an example, I will train on Anna Karenina. **This model will be able to generate new text based on the text from the book!**\n",
    "\n",
    "This network is based off of Andrej Karpathy's [post on RNNs](http://karpathy.github.io/2015/05/21/rnn-effectiveness/) and [implementation in Torch](https://github.com/karpathy/char-rnn). Below is the general architecture of the character-wise RNN.\n",
    "\n",
    "<img src=\"assets/charseq.jpeg\" width=\"500\">"
   ]
  },
  {
   "cell_type": "markdown",
   "metadata": {},
   "source": [
    "First let's load in our required resources for data loading and model creation."
   ]
  },
  {
   "cell_type": "code",
   "execution_count": 1,
   "metadata": {},
   "outputs": [],
   "source": [
    "import numpy as np\n",
    "import torch\n",
    "from torch import nn\n",
    "import torch.nn.functional as F"
   ]
  },
  {
   "cell_type": "markdown",
   "metadata": {},
   "source": [
    "## Load in Data\n",
    "\n",
    "Then, we'll load the Anna Karenina text file and convert it into integers for our network to use. "
   ]
  },
  {
   "cell_type": "code",
   "execution_count": 2,
   "metadata": {},
   "outputs": [],
   "source": [
    "# open text file and read in data as `text`\n",
    "with open('data/anna.txt', 'r') as f:\n",
    "    text = f.read()"
   ]
  },
  {
   "cell_type": "markdown",
   "metadata": {},
   "source": [
    "Let's check out the first 100 characters, make sure everything is peachy. According to the [American Book Review](http://americanbookreview.org/100bestlines.asp), this is the 6th best first line of a book ever."
   ]
  },
  {
   "cell_type": "code",
   "execution_count": 3,
   "metadata": {},
   "outputs": [
    {
     "data": {
      "text/plain": [
       "'Chapter 1\\n\\n\\nHappy families are all alike; every unhappy family is unhappy in its own\\nway.\\n\\nEverythin'"
      ]
     },
     "execution_count": 3,
     "metadata": {},
     "output_type": "execute_result"
    }
   ],
   "source": [
    "text[:100]"
   ]
  },
  {
   "cell_type": "markdown",
   "metadata": {},
   "source": [
    "### Tokenization\n",
    "\n",
    "In the cells, below, I'm creating a couple **dictionaries** to convert the characters to and from integers. Encoding the characters as integers makes it easier to use as input in the network."
   ]
  },
  {
   "cell_type": "code",
   "execution_count": 4,
   "metadata": {},
   "outputs": [],
   "source": [
    "# encode the text and map each character to an integer and vice versa\n",
    "\n",
    "# we create two dictionaries:\n",
    "# 1. int2char, which maps integers to characters\n",
    "# 2. char2int, which maps characters to unique integers\n",
    "chars = tuple(set(text))\n",
    "int2char = dict(enumerate(chars))\n",
    "char2int = {ch: ii for ii, ch in int2char.items()}\n",
    "# encode the text\n",
    "encoded = np.array([char2int[ch] for ch in text])"
   ]
  },
  {
   "cell_type": "markdown",
   "metadata": {},
   "source": [
    "And we can see those same characters from above, encoded as integers."
   ]
  },
  {
   "cell_type": "code",
   "execution_count": 5,
   "metadata": {},
   "outputs": [
    {
     "data": {
      "text/plain": [
       "array([23, 18, 66, 21, 47, 37, 48,  1, 72, 26, 26, 26, 13, 66, 21, 21, 35,\n",
       "        1, 81, 66, 76,  8, 74,  8, 37, 56,  1, 66, 48, 37,  1, 66, 74, 74,\n",
       "        1, 66, 74,  8, 36, 37, 19,  1, 37,  0, 37, 48, 35,  1, 33, 65, 18,\n",
       "       66, 21, 21, 35,  1, 81, 66, 76,  8, 74, 35,  1,  8, 56,  1, 33, 65,\n",
       "       18, 66, 21, 21, 35,  1,  8, 65,  1,  8, 47, 56,  1,  2, 38, 65, 26,\n",
       "       38, 66, 35, 82, 26, 26, 49,  0, 37, 48, 35, 47, 18,  8, 65])"
      ]
     },
     "execution_count": 5,
     "metadata": {},
     "output_type": "execute_result"
    }
   ],
   "source": [
    "encoded[:100]"
   ]
  },
  {
   "cell_type": "markdown",
   "metadata": {},
   "source": [
    "## Pre-processing the data\n",
    "\n",
    "As you can see in our char-RNN image above, our LSTM expects an input that is **one-hot encoded** meaning that each character is converted into an integer (via our created dictionary) and *then* converted into a column vector where only it's corresponding integer index will have the value of 1 and the rest of the vector will be filled with 0's. Since we're one-hot encoding the data, let's make a function to do that!\n"
   ]
  },
  {
   "cell_type": "code",
   "execution_count": 6,
   "metadata": {},
   "outputs": [],
   "source": [
    "def one_hot_encode(arr, n_labels):\n",
    "    \n",
    "    # Initialize the the encoded array\n",
    "    one_hot = np.zeros((np.multiply(*arr.shape), n_labels), dtype=np.float32)\n",
    "    \n",
    "    # Fill the appropriate elements with ones\n",
    "    one_hot[np.arange(one_hot.shape[0]), arr.flatten()] = 1.\n",
    "    \n",
    "    # Finally reshape it to get back to the original array\n",
    "    one_hot = one_hot.reshape((*arr.shape, n_labels))\n",
    "    \n",
    "    return one_hot"
   ]
  },
  {
   "cell_type": "code",
   "execution_count": 7,
   "metadata": {},
   "outputs": [
    {
     "data": {
      "text/plain": [
       "array([[[ 0.,  0.,  0.,  1.,  0.,  0.,  0.,  0.],\n",
       "        [ 0.,  0.,  0.,  0.,  0.,  1.,  0.,  0.],\n",
       "        [ 0.,  1.,  0.,  0.,  0.,  0.,  0.,  0.]]], dtype=float32)"
      ]
     },
     "execution_count": 7,
     "metadata": {},
     "output_type": "execute_result"
    }
   ],
   "source": [
    "# check that the function works as expected\n",
    "test_seq = np.array([[3, 5, 1]])\n",
    "one_hot = one_hot_encode(test_seq, 8)\n",
    "one_hot"
   ]
  },
  {
   "cell_type": "markdown",
   "metadata": {},
   "source": [
    "## Making training mini-batches\n",
    "\n",
    "\n",
    "To train on this data, we also want to create mini-batches for training. Remember that we want our batches to be multiple sequences of some desired number of sequence steps. Considering a simple example, our batches would look like this:\n",
    "\n",
    "<img src=\"assets/sequence_batching@1x.png\" width=500px>\n",
    "\n",
    "\n",
    "<br>\n",
    "\n",
    "In this example, we'll take the encoded characters (passed in as the `arr` parameter) and split them into multiple sequences, given by `batch_size`. Each of our sequences will be `seq_length` long.\n",
    "\n",
    "### Creating Batches\n",
    "\n",
    "**1. The first thing we need to do is discard some of the text so we only have completely full mini-batches. **\n",
    "\n",
    "Each batch contains $N \\times M$ characters, where $N$ is the batch size (the number of sequences in a batch) and $M$ is the seq_length or number of time steps in a sequence. Then, to get the total number of batches, $K$, that we can make from the array `arr`, you divide the length of `arr` by the number of characters per batch. Once you know the number of batches, you can get the total number of characters to keep from `arr`, $N * M * K$.\n",
    "\n",
    "**2. After that, we need to split `arr` into $N$ batches. ** \n",
    "\n",
    "You can do this using `arr.reshape(size)` where `size` is a tuple containing the dimensions sizes of the reshaped array. We know we want $N$ sequences in a batch, so let's make that the size of the first dimension. For the second dimension, you can use `-1` as a placeholder in the size, it'll fill up the array with the appropriate data for you. After this, you should have an array that is $N \\times (M * K)$.\n",
    "\n",
    "**3. Now that we have this array, we can iterate through it to get our mini-batches. **\n",
    "\n",
    "The idea is each batch is a $N \\times M$ window on the $N \\times (M * K)$ array. For each subsequent batch, the window moves over by `seq_length`. We also want to create both the input and target arrays. Remember that the targets are just the inputs shifted over by one character. The way I like to do this window is use `range` to take steps of size `n_steps` from $0$ to `arr.shape[1]`, the total number of tokens in each sequence. That way, the integers you get from `range` always point to the start of a batch, and each window is `seq_length` wide.\n",
    "\n",
    "> **TODO:** Write the code for creating batches in the function below. The exercises in this notebook _will not be easy_. I've provided a notebook with solutions alongside this notebook. If you get stuck, checkout the solutions. The most important thing is that you don't copy and paste the code into here, **type out the solution code yourself.**"
   ]
  },
  {
   "cell_type": "code",
   "execution_count": 8,
   "metadata": {},
   "outputs": [],
   "source": [
    "def get_batches(arr, batch_size, seq_length):\n",
    "    '''Create a generator that returns batches of size\n",
    "       batch_size x seq_length from arr.\n",
    "       \n",
    "       Arguments\n",
    "       ---------\n",
    "       arr: Array you want to make batches from\n",
    "       batch_size: Batch size, the number of sequences per batch\n",
    "       seq_length: Number of encoded chars in a sequence\n",
    "    '''\n",
    "    \n",
    "    ## TODO: Get the number of batches we can make\n",
    "    n_batches = len(arr)//((batch_size)*seq_length)\n",
    "    \n",
    "    ## TODO: Keep only enough characters to make full batches\n",
    "    arr = arr[:batch_size * n_batches * seq_length]\n",
    "    \n",
    "    ## TODO: Reshape into batch_size rows\n",
    "    arr = arr.reshape((batch_size,-1))\n",
    "    \n",
    "    ## TODO: Iterate over the batches using a window of size seq_length\n",
    "    for n in range(0, arr.shape[1], seq_length):\n",
    "        # The features\n",
    "        x = arr[:,n:n+seq_length]\n",
    "        # The targets, shifted by one\n",
    "        y = np.zeros_like(x)\n",
    "        try:\n",
    "            y[:,:-1] , y[:,-1] = x[:,1:] , arr[:,n+seq_length]\n",
    "            # 檢查是否y為x的下一個值，try 為true時回送try值\n",
    "        except IndexError:\n",
    "            y[:,:-1] , y[:,-1] = x[:,1:] , arr[:,0]\n",
    "            #檢查到最後一值超出index範圍，y最後一值等於該batch_size第一個值\n",
    "        yield x, y"
   ]
  },
  {
   "cell_type": "markdown",
   "metadata": {},
   "source": [
    "### Test Your Implementation\n",
    "\n",
    "Now I'll make some data sets and we can check out what's going on as we batch data. Here, as an example, I'm going to use a batch size of 8 and 50 sequence steps."
   ]
  },
  {
   "cell_type": "code",
   "execution_count": 9,
   "metadata": {},
   "outputs": [],
   "source": [
    "batches = get_batches(encoded, 8, 50)\n",
    "x, y = next(batches)"
   ]
  },
  {
   "cell_type": "code",
   "execution_count": 10,
   "metadata": {},
   "outputs": [
    {
     "name": "stdout",
     "output_type": "stream",
     "text": [
      "x\n",
      " [[23 18 66 21 47 37 48  1 72 26]\n",
      " [56  2 65  1 47 18 66 47  1 66]\n",
      " [37 65  3  1  2 48  1 66  1 81]\n",
      " [56  1 47 18 37  1 80 18  8 37]\n",
      " [ 1 56 66 38  1 18 37 48  1 47]\n",
      " [80 33 56 56  8  2 65  1 66 65]\n",
      " [ 1  6 65 65 66  1 18 66  3  1]\n",
      " [24 14 74  2 65 56 36 35 82  1]]\n",
      "\n",
      "y\n",
      " [[18 66 21 47 37 48  1 72 26 26]\n",
      " [ 2 65  1 47 18 66 47  1 66 47]\n",
      " [65  3  1  2 48  1 66  1 81  2]\n",
      " [ 1 47 18 37  1 80 18  8 37 81]\n",
      " [56 66 38  1 18 37 48  1 47 37]\n",
      " [33 56 56  8  2 65  1 66 65  3]\n",
      " [ 6 65 65 66  1 18 66  3  1 56]\n",
      " [14 74  2 65 56 36 35 82  1  9]]\n"
     ]
    }
   ],
   "source": [
    "# printing out the first 10 items in a sequence\n",
    "print('x\\n', x[:10, :10])\n",
    "print('\\ny\\n', y[:10, :10])"
   ]
  },
  {
   "cell_type": "markdown",
   "metadata": {},
   "source": [
    "If you implemented `get_batches` correctly, the above output should look something like \n",
    "```\n",
    "x\n",
    " [[25  8 60 11 45 27 28 73  1  2]\n",
    " [17  7 20 73 45  8 60 45 73 60]\n",
    " [27 20 80 73  7 28 73 60 73 65]\n",
    " [17 73 45  8 27 73 66  8 46 27]\n",
    " [73 17 60 12 73  8 27 28 73 45]\n",
    " [66 64 17 17 46  7 20 73 60 20]\n",
    " [73 76 20 20 60 73  8 60 80 73]\n",
    " [47 35 43  7 20 17 24 50 37 73]]\n",
    "\n",
    "y\n",
    " [[ 8 60 11 45 27 28 73  1  2  2]\n",
    " [ 7 20 73 45  8 60 45 73 60 45]\n",
    " [20 80 73  7 28 73 60 73 65  7]\n",
    " [73 45  8 27 73 66  8 46 27 65]\n",
    " [17 60 12 73  8 27 28 73 45 27]\n",
    " [64 17 17 46  7 20 73 60 20 80]\n",
    " [76 20 20 60 73  8 60 80 73 17]\n",
    " [35 43  7 20 17 24 50 37 73 36]]\n",
    " ```\n",
    " although the exact numbers may be different. Check to make sure the data is shifted over one step for `y`."
   ]
  },
  {
   "cell_type": "markdown",
   "metadata": {},
   "source": [
    "---\n",
    "## Defining the network with PyTorch\n",
    "\n",
    "Below is where you'll define the network.\n",
    "\n",
    "<img src=\"assets/charRNN.png\" width=500px>\n",
    "\n",
    "Next, you'll use PyTorch to define the architecture of the network. We start by defining the layers and operations we want. Then, define a method for the forward pass. You've also been given a method for predicting characters."
   ]
  },
  {
   "cell_type": "markdown",
   "metadata": {},
   "source": [
    "### Model Structure\n",
    "\n",
    "In `__init__` the suggested structure is as follows:\n",
    "* Create and store the necessary dictionaries (this has been done for you)\n",
    "* Define an LSTM layer that takes as params: an input size (the number of characters), a hidden layer size `n_hidden`, a number of layers `n_layers`, a dropout probability `drop_prob`, and a batch_first boolean (True, since we are batching)\n",
    "* Define a dropout layer with `dropout_prob`\n",
    "* Define a fully-connected layer with params: input size `n_hidden` and output size (the number of characters)\n",
    "* Finally, initialize the weights (again, this has been given)\n",
    "\n",
    "Note that some parameters have been named and given in the `__init__` function, and we use them and store them by doing something like `self.drop_prob = drop_prob`."
   ]
  },
  {
   "cell_type": "markdown",
   "metadata": {},
   "source": [
    "---\n",
    "### LSTM Inputs/Outputs\n",
    "\n",
    "You can create a basic [LSTM layer](https://pytorch.org/docs/stable/nn.html#lstm) as follows\n",
    "\n",
    "```python\n",
    "self.lstm = nn.LSTM(input_size, n_hidden, n_layers, \n",
    "                            dropout=drop_prob, batch_first=True)\n",
    "```\n",
    "\n",
    "where `input_size` is the number of characters this cell expects to see as sequential input, and `n_hidden` is the number of units in the hidden layers in the cell. And we can add dropout by adding a dropout parameter with a specified probability; this will automatically add dropout to the inputs or outputs. Finally, in the `forward` function, we can stack up the LSTM cells into layers using `.view`. With this, you pass in a list of cells and it will send the output of one cell into the next cell.\n",
    "\n",
    "We also need to create an initial hidden state of all zeros. This is done like so\n",
    "\n",
    "```python\n",
    "self.init_hidden()\n",
    "```"
   ]
  },
  {
   "cell_type": "code",
   "execution_count": 11,
   "metadata": {},
   "outputs": [
    {
     "name": "stdout",
     "output_type": "stream",
     "text": [
      "No GPU available, training on CPU; consider making n_epochs very small.\n"
     ]
    }
   ],
   "source": [
    "# check if GPU is available\n",
    "train_on_gpu = torch.cuda.is_available()\n",
    "if(train_on_gpu):\n",
    "    print('Training on GPU!')\n",
    "else: \n",
    "    print('No GPU available, training on CPU; consider making n_epochs very small.')"
   ]
  },
  {
   "cell_type": "code",
   "execution_count": 12,
   "metadata": {},
   "outputs": [],
   "source": [
    "class CharRNN(nn.Module):\n",
    "    \n",
    "    def __init__(self, tokens, n_hidden=256, n_layers=2,\n",
    "                               drop_prob=0.5, lr=0.001):\n",
    "        super().__init__()\n",
    "        self.drop_prob = drop_prob\n",
    "        self.n_layers = n_layers\n",
    "        self.n_hidden = n_hidden\n",
    "        self.lr = lr\n",
    "        \n",
    "        # creating character dictionaries\n",
    "        self.chars = tokens\n",
    "        self.int2char = dict(enumerate(self.chars))\n",
    "        self.char2int = {ch: ii for ii, ch in self.int2char.items()}\n",
    "        \n",
    "        ## TODO: define the layers of the model\n",
    "        self.dropout = nn.Dropout(drop_prob)\n",
    "        self.lstm = nn.LSTM(len(self.chars),n_hidden,n_layers,dropout=drop_prob , batch_first = True)\n",
    "        self.fc  = nn.Linear(n_hidden,len(self.chars))\n",
    "    \n",
    "    def forward(self, x, hidden):\n",
    "        ''' Forward pass through the network. \n",
    "            These inputs are x, and the hidden/cell state `hidden`. '''\n",
    "                \n",
    "        ## TODO: Get the outputs and the new hidden state from the lstm\n",
    "        r_out , hidden = self.lstm(x,hidden)\n",
    "        out = self.dropout(r_out)\n",
    "        out = out.contiguous().view(-1,self.n_hidden)\n",
    "        out = self.fc(out)\n",
    "        # return the final output and the hidden state\n",
    "        return out, hidden\n",
    "    \n",
    "    \n",
    "    def init_hidden(self, batch_size):\n",
    "        ''' Initializes hidden state '''\n",
    "        # Create two new tensors with sizes n_layers x batch_size x n_hidden,\n",
    "        # initialized to zero, for hidden state and cell state of LSTM\n",
    "        weight = next(self.parameters()).data\n",
    "        \n",
    "        if (train_on_gpu):\n",
    "            hidden = (weight.new(self.n_layers, batch_size, self.n_hidden).zero_().cuda(),\n",
    "                  weight.new(self.n_layers, batch_size, self.n_hidden).zero_().cuda())\n",
    "        else:\n",
    "            hidden = (weight.new(self.n_layers, batch_size, self.n_hidden).zero_(),\n",
    "                      weight.new(self.n_layers, batch_size, self.n_hidden).zero_())\n",
    "        \n",
    "        return hidden\n",
    "        "
   ]
  },
  {
   "cell_type": "markdown",
   "metadata": {},
   "source": [
    "## Time to train\n",
    "\n",
    "The train function gives us the ability to set the number of epochs, the learning rate, and other parameters.\n",
    "\n",
    "Below we're using an Adam optimizer and cross entropy loss since we are looking at character class scores as output. We calculate the loss and perform backpropagation, as usual!\n",
    "\n",
    "A couple of details about training: \n",
    ">* Within the batch loop, we detach the hidden state from its history; this time setting it equal to a new *tuple* variable because an LSTM has a hidden state that is a tuple of the hidden and cell states.\n",
    "* We use [`clip_grad_norm_`](https://pytorch.org/docs/stable/_modules/torch/nn/utils/clip_grad.html) to help prevent exploding gradients."
   ]
  },
  {
   "cell_type": "code",
   "execution_count": 36,
   "metadata": {},
   "outputs": [
    {
     "ename": "AttributeError",
     "evalue": "'tuple' object has no attribute 'data'",
     "output_type": "error",
     "traceback": [
      "\u001b[0;31m---------------------------------------------------------------------------\u001b[0m",
      "\u001b[0;31mAttributeError\u001b[0m                            Traceback (most recent call last)",
      "\u001b[0;32m<ipython-input-36-50c69545af29>\u001b[0m in \u001b[0;36m<module>\u001b[0;34m()\u001b[0m\n\u001b[1;32m      1\u001b[0m \u001b[0mKK\u001b[0m \u001b[0;34m=\u001b[0m \u001b[0mCharRNN\u001b[0m\u001b[0;34m(\u001b[0m\u001b[0mchars\u001b[0m\u001b[0;34m,\u001b[0m\u001b[0mn_hidden\u001b[0m\u001b[0;34m=\u001b[0m\u001b[0;36m256\u001b[0m\u001b[0;34m,\u001b[0m\u001b[0mn_layers\u001b[0m\u001b[0;34m=\u001b[0m\u001b[0;36m2\u001b[0m\u001b[0;34m,\u001b[0m\u001b[0mdrop_prob\u001b[0m \u001b[0;34m=\u001b[0m \u001b[0;36m0.5\u001b[0m\u001b[0;34m,\u001b[0m\u001b[0mlr\u001b[0m \u001b[0;34m=\u001b[0m \u001b[0;36m0.001\u001b[0m\u001b[0;34m)\u001b[0m\u001b[0;34m\u001b[0m\u001b[0m\n\u001b[1;32m      2\u001b[0m \u001b[0ma\u001b[0m \u001b[0;34m=\u001b[0m \u001b[0mtuple\u001b[0m\u001b[0;34m(\u001b[0m\u001b[0;34m[\u001b[0m\u001b[0mch\u001b[0m\u001b[0;34m.\u001b[0m\u001b[0mdata\u001b[0m \u001b[0;32mfor\u001b[0m \u001b[0mch\u001b[0m \u001b[0;32min\u001b[0m \u001b[0mKK\u001b[0m\u001b[0;34m.\u001b[0m\u001b[0minit_hidden\u001b[0m\u001b[0;34m(\u001b[0m\u001b[0;36m2\u001b[0m\u001b[0;34m)\u001b[0m\u001b[0;34m]\u001b[0m\u001b[0;34m)\u001b[0m\u001b[0;34m\u001b[0m\u001b[0m\n\u001b[0;32m----> 3\u001b[0;31m \u001b[0mprint\u001b[0m\u001b[0;34m(\u001b[0m\u001b[0ma\u001b[0m\u001b[0;34m.\u001b[0m\u001b[0mdata\u001b[0m\u001b[0;34m)\u001b[0m\u001b[0;34m\u001b[0m\u001b[0m\n\u001b[0m",
      "\u001b[0;31mAttributeError\u001b[0m: 'tuple' object has no attribute 'data'"
     ]
    }
   ],
   "source": [
    "KK = CharRNN(chars,n_hidden=256,n_layers=2,drop_prob = 0.5,lr = 0.001)\n",
    "a = tuple([ch.data for ch in KK.init_hidden(2)])"
   ]
  },
  {
   "cell_type": "code",
   "execution_count": 14,
   "metadata": {},
   "outputs": [],
   "source": [
    "def train(net, data, epochs=10, batch_size=10, seq_length=50, lr=0.001, clip=5, val_frac=0.1, print_every=10):\n",
    "    ''' Training a network \n",
    "    \n",
    "        Arguments\n",
    "        ---------\n",
    "        \n",
    "        net: CharRNN network\n",
    "        data: text data to train the network\n",
    "        epochs: Number of epochs to train\n",
    "        batch_size: Number of mini-sequences per mini-batch, aka batch size\n",
    "        seq_length: Number of character steps per mini-batch\n",
    "        lr: learning rate\n",
    "        clip: gradient clipping\n",
    "        val_frac: Fraction of data to hold out for validation\n",
    "        print_every: Number of steps for printing training and validation loss\n",
    "    \n",
    "    '''\n",
    "    net.train()\n",
    "    \n",
    "    opt = torch.optim.Adam(net.parameters(), lr=lr)\n",
    "    criterion = nn.CrossEntropyLoss()\n",
    "    \n",
    "    # create training and validation data\n",
    "    val_idx = int(len(data)*(1-val_frac))\n",
    "    data, val_data = data[:val_idx], data[val_idx:]\n",
    "    \n",
    "    if(train_on_gpu):\n",
    "        net.cuda()\n",
    "    \n",
    "    counter = 0\n",
    "    n_chars = len(net.chars)\n",
    "    for e in range(epochs):\n",
    "        # initialize hidden state\n",
    "        h = net.init_hidden(batch_size)\n",
    "        \n",
    "        for x, y in get_batches(data, batch_size, seq_length):\n",
    "            counter += 1\n",
    "            \n",
    "            # One-hot encode our data and make them Torch tensors\n",
    "            x = one_hot_encode(x, n_chars)\n",
    "            inputs, targets = torch.from_numpy(x), torch.from_numpy(y)\n",
    "            \n",
    "            if(train_on_gpu):\n",
    "                inputs, targets = inputs.cuda(), targets.cuda()\n",
    "\n",
    "            # Creating new variables for the hidden state, otherwise\n",
    "            # we'd backprop through the entire training history\n",
    "            h = tuple([each.data for each in h])\n",
    "\n",
    "            # zero accumulated gradients\n",
    "            net.zero_grad()\n",
    "            \n",
    "            # get the output from the model\n",
    "            output, h = net(inputs, h)\n",
    "            \n",
    "            # calculate the loss and perform backprop\n",
    "            loss = criterion(output, targets.view(batch_size*seq_length))\n",
    "            loss.backward()\n",
    "            # `clip_grad_norm` helps prevent the exploding gradient problem in RNNs / LSTMs.\n",
    "            nn.utils.clip_grad_norm_(net.parameters(), clip)\n",
    "            opt.step()\n",
    "            \n",
    "            # loss stats\n",
    "            if counter % print_every == 0:\n",
    "                # Get validation loss\n",
    "                val_h = net.init_hidden(batch_size)\n",
    "                val_losses = []\n",
    "                net.eval()\n",
    "                for x, y in get_batches(val_data, batch_size, seq_length):\n",
    "                    # One-hot encode our data and make them Torch tensors\n",
    "                    x = one_hot_encode(x, n_chars)\n",
    "                    x, y = torch.from_numpy(x), torch.from_numpy(y)\n",
    "                    \n",
    "                    # Creating new variables for the hidden state, otherwise\n",
    "                    # we'd backprop through the entire training history\n",
    "                    val_h = tuple([each.data for each in val_h])\n",
    "                    \n",
    "                    inputs, targets = x, y\n",
    "                    if(train_on_gpu):\n",
    "                        inputs, targets = inputs.cuda(), targets.cuda()\n",
    "\n",
    "                    output, val_h = net(inputs, val_h)\n",
    "                    val_loss = criterion(output, targets.view(batch_size*seq_length))\n",
    "                \n",
    "                    val_losses.append(val_loss.item())\n",
    "                \n",
    "                net.train() # reset to train mode after iterationg through validation data\n",
    "                \n",
    "                print(\"Epoch: {}/{}...\".format(e+1, epochs),\n",
    "                      \"Step: {}...\".format(counter),\n",
    "                      \"Loss: {:.4f}...\".format(loss.item()),\n",
    "                      \"Val Loss: {:.4f}\".format(np.mean(val_losses)))"
   ]
  },
  {
   "cell_type": "markdown",
   "metadata": {},
   "source": [
    "## Instantiating the model\n",
    "\n",
    "Now we can actually train the network. First we'll create the network itself, with some given hyperparameters. Then, define the mini-batches sizes, and start training!"
   ]
  },
  {
   "cell_type": "code",
   "execution_count": 14,
   "metadata": {},
   "outputs": [
    {
     "data": {
      "text/plain": [
       "CharRNN(\n",
       "  (dropout): Dropout(p=0.5)\n",
       "  (lstm): LSTM(83, 256, num_layers=2, batch_first=True, dropout=0.5)\n",
       "  (fc): Linear(in_features=256, out_features=83, bias=True)\n",
       ")"
      ]
     },
     "execution_count": 14,
     "metadata": {},
     "output_type": "execute_result"
    }
   ],
   "source": [
    "## TODO: set you model hyperparameters\n",
    "# define and print the net\n",
    "n_hidden=256\n",
    "n_layers=2\n",
    "\n",
    "net = CharRNN(chars, n_hidden, n_layers)\n",
    "net"
   ]
  },
  {
   "cell_type": "markdown",
   "metadata": {},
   "source": [
    "### Set your training hyperparameters!"
   ]
  },
  {
   "cell_type": "code",
   "execution_count": 16,
   "metadata": {
    "scrolled": true
   },
   "outputs": [
    {
     "name": "stdout",
     "output_type": "stream",
     "text": [
      "Epoch: 1/2... Step: 10... Loss: 2.9977... Val Loss: 2.9711\n",
      "Epoch: 1/2... Step: 20... Loss: 2.9607... Val Loss: 2.9323\n",
      "Epoch: 1/2... Step: 30... Loss: 2.8620... Val Loss: 2.8946\n",
      "Epoch: 1/2... Step: 40... Loss: 2.8747... Val Loss: 2.8560\n",
      "Epoch: 1/2... Step: 50... Loss: 2.8401... Val Loss: 2.8196\n",
      "Epoch: 1/2... Step: 60... Loss: 2.7977... Val Loss: 2.7838\n",
      "Epoch: 1/2... Step: 70... Loss: 2.7616... Val Loss: 2.7417\n",
      "Epoch: 1/2... Step: 80... Loss: 2.7072... Val Loss: 2.7067\n",
      "Epoch: 1/2... Step: 90... Loss: 2.7085... Val Loss: 2.6640\n",
      "Epoch: 1/2... Step: 100... Loss: 2.6205... Val Loss: 2.6359\n",
      "Epoch: 1/2... Step: 110... Loss: 2.6513... Val Loss: 2.6050\n",
      "Epoch: 1/2... Step: 120... Loss: 2.6037... Val Loss: 2.5847\n",
      "Epoch: 1/2... Step: 130... Loss: 2.5806... Val Loss: 2.5626\n",
      "Epoch: 1/2... Step: 140... Loss: 2.5159... Val Loss: 2.5439\n",
      "Epoch: 1/2... Step: 150... Loss: 2.5797... Val Loss: 2.5272\n",
      "Epoch: 1/2... Step: 160... Loss: 2.5699... Val Loss: 2.5178\n",
      "Epoch: 1/2... Step: 170... Loss: 2.5050... Val Loss: 2.4987\n",
      "Epoch: 1/2... Step: 180... Loss: 2.4949... Val Loss: 2.4820\n",
      "Epoch: 1/2... Step: 190... Loss: 2.4981... Val Loss: 2.4781\n",
      "Epoch: 1/2... Step: 200... Loss: 2.5017... Val Loss: 2.4539\n",
      "Epoch: 1/2... Step: 210... Loss: 2.4393... Val Loss: 2.4373\n",
      "Epoch: 1/2... Step: 220... Loss: 2.4697... Val Loss: 2.4283\n",
      "Epoch: 1/2... Step: 230... Loss: 2.4238... Val Loss: 2.4200\n",
      "Epoch: 1/2... Step: 240... Loss: 2.3730... Val Loss: 2.3982\n",
      "Epoch: 1/2... Step: 250... Loss: 2.3749... Val Loss: 2.3936\n",
      "Epoch: 1/2... Step: 260... Loss: 2.3940... Val Loss: 2.3810\n",
      "Epoch: 1/2... Step: 270... Loss: 2.3625... Val Loss: 2.3678\n",
      "Epoch: 1/2... Step: 280... Loss: 2.3359... Val Loss: 2.3635\n",
      "Epoch: 1/2... Step: 290... Loss: 2.3770... Val Loss: 2.3527\n",
      "Epoch: 1/2... Step: 300... Loss: 2.3727... Val Loss: 2.3457\n",
      "Epoch: 1/2... Step: 310... Loss: 2.3335... Val Loss: 2.3312\n",
      "Epoch: 1/2... Step: 320... Loss: 2.3553... Val Loss: 2.3237\n",
      "Epoch: 1/2... Step: 330... Loss: 2.3965... Val Loss: 2.3121\n",
      "Epoch: 1/2... Step: 340... Loss: 2.3709... Val Loss: 2.3046\n",
      "Epoch: 1/2... Step: 350... Loss: 2.3086... Val Loss: 2.2927\n",
      "Epoch: 1/2... Step: 360... Loss: 2.2789... Val Loss: 2.2902\n",
      "Epoch: 1/2... Step: 370... Loss: 2.2463... Val Loss: 2.2817\n",
      "Epoch: 1/2... Step: 380... Loss: 2.2426... Val Loss: 2.2732\n",
      "Epoch: 1/2... Step: 390... Loss: 2.2828... Val Loss: 2.2612\n",
      "Epoch: 1/2... Step: 400... Loss: 2.2780... Val Loss: 2.2563\n",
      "Epoch: 1/2... Step: 410... Loss: 2.2196... Val Loss: 2.2465\n",
      "Epoch: 1/2... Step: 420... Loss: 2.2606... Val Loss: 2.2426\n",
      "Epoch: 1/2... Step: 430... Loss: 2.2752... Val Loss: 2.2324\n",
      "Epoch: 1/2... Step: 440... Loss: 2.2788... Val Loss: 2.2218\n",
      "Epoch: 1/2... Step: 450... Loss: 2.2223... Val Loss: 2.2201\n",
      "Epoch: 1/2... Step: 460... Loss: 2.2406... Val Loss: 2.2116\n",
      "Epoch: 1/2... Step: 470... Loss: 2.2075... Val Loss: 2.2101\n",
      "Epoch: 1/2... Step: 480... Loss: 2.2815... Val Loss: 2.2009\n",
      "Epoch: 1/2... Step: 490... Loss: 2.1720... Val Loss: 2.1864\n",
      "Epoch: 1/2... Step: 500... Loss: 2.1573... Val Loss: 2.1827\n",
      "Epoch: 1/2... Step: 510... Loss: 2.2512... Val Loss: 2.1784\n",
      "Epoch: 1/2... Step: 520... Loss: 2.2253... Val Loss: 2.1706\n",
      "Epoch: 1/2... Step: 530... Loss: 2.1589... Val Loss: 2.1601\n",
      "Epoch: 1/2... Step: 540... Loss: 2.1838... Val Loss: 2.1543\n",
      "Epoch: 1/2... Step: 550... Loss: 2.1075... Val Loss: 2.1419\n",
      "Epoch: 1/2... Step: 560... Loss: 2.1185... Val Loss: 2.1350\n",
      "Epoch: 1/2... Step: 570... Loss: 2.1599... Val Loss: 2.1301\n",
      "Epoch: 1/2... Step: 580... Loss: 2.1437... Val Loss: 2.1247\n",
      "Epoch: 1/2... Step: 590... Loss: 2.1781... Val Loss: 2.1139\n",
      "Epoch: 1/2... Step: 600... Loss: 2.1491... Val Loss: 2.1114\n",
      "Epoch: 1/2... Step: 610... Loss: 2.0932... Val Loss: 2.1055\n",
      "Epoch: 1/2... Step: 620... Loss: 2.1062... Val Loss: 2.1039\n",
      "Epoch: 1/2... Step: 630... Loss: 2.1149... Val Loss: 2.0950\n",
      "Epoch: 1/2... Step: 640... Loss: 2.0906... Val Loss: 2.0864\n",
      "Epoch: 1/2... Step: 650... Loss: 2.0461... Val Loss: 2.0826\n",
      "Epoch: 1/2... Step: 660... Loss: 2.0616... Val Loss: 2.0744\n",
      "Epoch: 1/2... Step: 670... Loss: 2.0836... Val Loss: 2.0680\n",
      "Epoch: 1/2... Step: 680... Loss: 2.0566... Val Loss: 2.0638\n",
      "Epoch: 1/2... Step: 690... Loss: 2.0833... Val Loss: 2.0574\n",
      "Epoch: 1/2... Step: 700... Loss: 2.0935... Val Loss: 2.0480\n",
      "Epoch: 1/2... Step: 710... Loss: 1.9730... Val Loss: 2.0440\n",
      "Epoch: 1/2... Step: 720... Loss: 2.0591... Val Loss: 2.0404\n",
      "Epoch: 1/2... Step: 730... Loss: 2.1713... Val Loss: 2.0363\n",
      "Epoch: 1/2... Step: 740... Loss: 2.0442... Val Loss: 2.0307\n",
      "Epoch: 1/2... Step: 750... Loss: 2.0278... Val Loss: 2.0237\n",
      "Epoch: 1/2... Step: 760... Loss: 1.9864... Val Loss: 2.0231\n",
      "Epoch: 1/2... Step: 770... Loss: 2.0718... Val Loss: 2.0218\n",
      "Epoch: 1/2... Step: 780... Loss: 1.9940... Val Loss: 2.0104\n",
      "Epoch: 1/2... Step: 790... Loss: 2.1419... Val Loss: 2.0054\n",
      "Epoch: 1/2... Step: 800... Loss: 2.0720... Val Loss: 2.0009\n",
      "Epoch: 1/2... Step: 810... Loss: 2.0727... Val Loss: 1.9988\n",
      "Epoch: 1/2... Step: 820... Loss: 1.9850... Val Loss: 1.9907\n",
      "Epoch: 1/2... Step: 830... Loss: 2.0299... Val Loss: 1.9828\n",
      "Epoch: 1/2... Step: 840... Loss: 2.0268... Val Loss: 1.9773\n",
      "Epoch: 1/2... Step: 850... Loss: 1.9381... Val Loss: 1.9771\n",
      "Epoch: 1/2... Step: 860... Loss: 1.9758... Val Loss: 1.9713\n",
      "Epoch: 1/2... Step: 870... Loss: 2.0088... Val Loss: 1.9687\n",
      "Epoch: 1/2... Step: 880... Loss: 1.9623... Val Loss: 1.9584\n",
      "Epoch: 1/2... Step: 890... Loss: 1.9831... Val Loss: 1.9566\n",
      "Epoch: 2/2... Step: 900... Loss: 1.9406... Val Loss: 1.9517\n",
      "Epoch: 2/2... Step: 910... Loss: 2.0121... Val Loss: 1.9497\n",
      "Epoch: 2/2... Step: 920... Loss: 1.8868... Val Loss: 1.9521\n",
      "Epoch: 2/2... Step: 930... Loss: 1.9265... Val Loss: 1.9390\n",
      "Epoch: 2/2... Step: 940... Loss: 1.9627... Val Loss: 1.9363\n",
      "Epoch: 2/2... Step: 950... Loss: 1.9094... Val Loss: 1.9331\n",
      "Epoch: 2/2... Step: 960... Loss: 1.9118... Val Loss: 1.9283\n",
      "Epoch: 2/2... Step: 970... Loss: 2.0146... Val Loss: 1.9243\n",
      "Epoch: 2/2... Step: 980... Loss: 2.0214... Val Loss: 1.9231\n",
      "Epoch: 2/2... Step: 990... Loss: 2.0048... Val Loss: 1.9159\n",
      "Epoch: 2/2... Step: 1000... Loss: 1.9514... Val Loss: 1.9108\n",
      "Epoch: 2/2... Step: 1010... Loss: 1.9016... Val Loss: 1.9064\n",
      "Epoch: 2/2... Step: 1020... Loss: 2.0270... Val Loss: 1.9075\n",
      "Epoch: 2/2... Step: 1030... Loss: 1.9413... Val Loss: 1.9040\n",
      "Epoch: 2/2... Step: 1040... Loss: 1.9122... Val Loss: 1.8967\n",
      "Epoch: 2/2... Step: 1050... Loss: 1.8602... Val Loss: 1.8957\n",
      "Epoch: 2/2... Step: 1060... Loss: 1.9487... Val Loss: 1.8941\n",
      "Epoch: 2/2... Step: 1070... Loss: 1.8683... Val Loss: 1.8893\n",
      "Epoch: 2/2... Step: 1080... Loss: 1.8704... Val Loss: 1.8863\n",
      "Epoch: 2/2... Step: 1090... Loss: 1.8517... Val Loss: 1.8899\n",
      "Epoch: 2/2... Step: 1100... Loss: 1.8668... Val Loss: 1.8795\n",
      "Epoch: 2/2... Step: 1110... Loss: 1.8607... Val Loss: 1.8776\n",
      "Epoch: 2/2... Step: 1120... Loss: 1.9261... Val Loss: 1.8712\n",
      "Epoch: 2/2... Step: 1130... Loss: 1.8982... Val Loss: 1.8672\n",
      "Epoch: 2/2... Step: 1140... Loss: 1.7846... Val Loss: 1.8618\n",
      "Epoch: 2/2... Step: 1150... Loss: 1.8754... Val Loss: 1.8608\n",
      "Epoch: 2/2... Step: 1160... Loss: 1.8634... Val Loss: 1.8597\n",
      "Epoch: 2/2... Step: 1170... Loss: 1.8619... Val Loss: 1.8582\n",
      "Epoch: 2/2... Step: 1180... Loss: 1.8988... Val Loss: 1.8525\n",
      "Epoch: 2/2... Step: 1190... Loss: 1.8506... Val Loss: 1.8490\n",
      "Epoch: 2/2... Step: 1200... Loss: 1.8655... Val Loss: 1.8455\n",
      "Epoch: 2/2... Step: 1210... Loss: 1.9247... Val Loss: 1.8420\n",
      "Epoch: 2/2... Step: 1220... Loss: 1.8323... Val Loss: 1.8359\n",
      "Epoch: 2/2... Step: 1230... Loss: 1.8889... Val Loss: 1.8344\n",
      "Epoch: 2/2... Step: 1240... Loss: 1.8697... Val Loss: 1.8331\n",
      "Epoch: 2/2... Step: 1250... Loss: 1.8642... Val Loss: 1.8321\n",
      "Epoch: 2/2... Step: 1260... Loss: 1.8323... Val Loss: 1.8304\n",
      "Epoch: 2/2... Step: 1270... Loss: 1.8922... Val Loss: 1.8294\n",
      "Epoch: 2/2... Step: 1280... Loss: 1.8551... Val Loss: 1.8260\n",
      "Epoch: 2/2... Step: 1290... Loss: 1.7751... Val Loss: 1.8179\n",
      "Epoch: 2/2... Step: 1300... Loss: 1.8135... Val Loss: 1.8189\n",
      "Epoch: 2/2... Step: 1310... Loss: 1.7916... Val Loss: 1.8168\n",
      "Epoch: 2/2... Step: 1320... Loss: 1.7757... Val Loss: 1.8107\n",
      "Epoch: 2/2... Step: 1330... Loss: 1.8362... Val Loss: 1.8080\n",
      "Epoch: 2/2... Step: 1340... Loss: 1.7575... Val Loss: 1.8095\n",
      "Epoch: 2/2... Step: 1350... Loss: 1.8431... Val Loss: 1.8098\n",
      "Epoch: 2/2... Step: 1360... Loss: 1.7695... Val Loss: 1.8029\n",
      "Epoch: 2/2... Step: 1370... Loss: 1.8816... Val Loss: 1.8008\n",
      "Epoch: 2/2... Step: 1380... Loss: 1.7823... Val Loss: 1.7965\n",
      "Epoch: 2/2... Step: 1390... Loss: 1.8671... Val Loss: 1.7914\n",
      "Epoch: 2/2... Step: 1400... Loss: 1.8627... Val Loss: 1.7907\n",
      "Epoch: 2/2... Step: 1410... Loss: 1.8563... Val Loss: 1.7882\n",
      "Epoch: 2/2... Step: 1420... Loss: 1.7940... Val Loss: 1.7862\n",
      "Epoch: 2/2... Step: 1430... Loss: 1.7955... Val Loss: 1.7838\n",
      "Epoch: 2/2... Step: 1440... Loss: 1.8453... Val Loss: 1.7820\n",
      "Epoch: 2/2... Step: 1450... Loss: 1.7853... Val Loss: 1.7792\n",
      "Epoch: 2/2... Step: 1460... Loss: 1.7288... Val Loss: 1.7769\n",
      "Epoch: 2/2... Step: 1470... Loss: 1.8333... Val Loss: 1.7738\n",
      "Epoch: 2/2... Step: 1480... Loss: 1.8139... Val Loss: 1.7750\n",
      "Epoch: 2/2... Step: 1490... Loss: 1.8037... Val Loss: 1.7703\n",
      "Epoch: 2/2... Step: 1500... Loss: 1.7366... Val Loss: 1.7668\n",
      "Epoch: 2/2... Step: 1510... Loss: 1.7710... Val Loss: 1.7657\n",
      "Epoch: 2/2... Step: 1520... Loss: 1.7951... Val Loss: 1.7638\n",
      "Epoch: 2/2... Step: 1530... Loss: 1.7616... Val Loss: 1.7607\n",
      "Epoch: 2/2... Step: 1540... Loss: 1.7464... Val Loss: 1.7586\n",
      "Epoch: 2/2... Step: 1550... Loss: 1.8237... Val Loss: 1.7567\n",
      "Epoch: 2/2... Step: 1560... Loss: 1.6829... Val Loss: 1.7634\n",
      "Epoch: 2/2... Step: 1570... Loss: 1.8180... Val Loss: 1.7532\n",
      "Epoch: 2/2... Step: 1580... Loss: 1.7962... Val Loss: 1.7522\n",
      "Epoch: 2/2... Step: 1590... Loss: 1.8332... Val Loss: 1.7485\n",
      "Epoch: 2/2... Step: 1600... Loss: 1.7353... Val Loss: 1.7406\n",
      "Epoch: 2/2... Step: 1610... Loss: 1.7001... Val Loss: 1.7405\n",
      "Epoch: 2/2... Step: 1620... Loss: 1.7668... Val Loss: 1.7408\n",
      "Epoch: 2/2... Step: 1630... Loss: 1.7810... Val Loss: 1.7397\n",
      "Epoch: 2/2... Step: 1640... Loss: 1.7275... Val Loss: 1.7363\n",
      "Epoch: 2/2... Step: 1650... Loss: 1.8552... Val Loss: 1.7440\n",
      "Epoch: 2/2... Step: 1660... Loss: 1.7169... Val Loss: 1.7351\n",
      "Epoch: 2/2... Step: 1670... Loss: 1.8083... Val Loss: 1.7306\n",
      "Epoch: 2/2... Step: 1680... Loss: 1.7931... Val Loss: 1.7351\n",
      "Epoch: 2/2... Step: 1690... Loss: 1.7308... Val Loss: 1.7393\n",
      "Epoch: 2/2... Step: 1700... Loss: 1.7040... Val Loss: 1.7285\n",
      "Epoch: 2/2... Step: 1710... Loss: 1.7864... Val Loss: 1.7287\n",
      "Epoch: 2/2... Step: 1720... Loss: 1.6894... Val Loss: 1.7281\n",
      "Epoch: 2/2... Step: 1730... Loss: 1.7831... Val Loss: 1.7227\n",
      "Epoch: 2/2... Step: 1740... Loss: 1.7534... Val Loss: 1.7165\n",
      "Epoch: 2/2... Step: 1750... Loss: 1.6784... Val Loss: 1.7176\n",
      "Epoch: 2/2... Step: 1760... Loss: 1.6449... Val Loss: 1.7192\n",
      "Epoch: 2/2... Step: 1770... Loss: 1.6864... Val Loss: 1.7121\n",
      "Epoch: 2/2... Step: 1780... Loss: 1.7218... Val Loss: 1.7144\n"
     ]
    }
   ],
   "source": [
    "batch_size = 20\n",
    "seq_length = 100\n",
    "n_epochs = 2# start small if you are just testing initial behavior\n",
    "\n",
    "# train the model\n",
    "train(net, encoded, epochs=n_epochs, batch_size=batch_size, seq_length=seq_length, lr=0.001, print_every=10)"
   ]
  },
  {
   "cell_type": "markdown",
   "metadata": {},
   "source": [
    "## Getting the best model\n",
    "\n",
    "To set your hyperparameters to get the best performance, you'll want to watch the training and validation losses. If your training loss is much lower than the validation loss, you're overfitting. Increase regularization (more dropout) or use a smaller network. If the training and validation losses are close, you're underfitting so you can increase the size of the network."
   ]
  },
  {
   "cell_type": "markdown",
   "metadata": {},
   "source": [
    "## Hyperparameters\n",
    "\n",
    "Here are the hyperparameters for the network.\n",
    "\n",
    "In defining the model:\n",
    "* `n_hidden` - The number of units in the hidden layers.\n",
    "* `n_layers` - Number of hidden LSTM layers to use.\n",
    "\n",
    "We assume that dropout probability and learning rate will be kept at the default, in this example.\n",
    "\n",
    "And in training:\n",
    "* `batch_size` - Number of sequences running through the network in one pass.\n",
    "* `seq_length` - Number of characters in the sequence the network is trained on. Larger is better typically, the network will learn more long range dependencies. But it takes longer to train. 100 is typically a good number here.\n",
    "* `lr` - Learning rate for training\n",
    "\n",
    "Here's some good advice from Andrej Karpathy on training the network. I'm going to copy it in here for your benefit, but also link to [where it originally came from](https://github.com/karpathy/char-rnn#tips-and-tricks).\n",
    "\n",
    "> ## Tips and Tricks\n",
    "\n",
    ">### Monitoring Validation Loss vs. Training Loss\n",
    ">If you're somewhat new to Machine Learning or Neural Networks it can take a bit of expertise to get good models. The most important quantity to keep track of is the difference between your training loss (printed during training) and the validation loss (printed once in a while when the RNN is run on the validation data (by default every 1000 iterations)). In particular:\n",
    "\n",
    "> - If your training loss is much lower than validation loss then this means the network might be **overfitting**. Solutions to this are to decrease your network size, or to increase dropout. For example you could try dropout of 0.5 and so on.\n",
    "> - If your training/validation loss are about equal then your model is **underfitting**. Increase the size of your model (either number of layers or the raw number of neurons per layer)\n",
    "\n",
    "> ### Approximate number of parameters\n",
    "\n",
    "> The two most important parameters that control the model are `n_hidden` and `n_layers`. I would advise that you always use `n_layers` of either 2/3. The `n_hidden` can be adjusted based on how much data you have. The two important quantities to keep track of here are:\n",
    "\n",
    "> - The number of parameters in your model. This is printed when you start training.\n",
    "> - The size of your dataset. 1MB file is approximately 1 million characters.\n",
    "\n",
    ">These two should be about the same order of magnitude. It's a little tricky to tell. Here are some examples:\n",
    "\n",
    "> - I have a 100MB dataset and I'm using the default parameter settings (which currently print 150K parameters). My data size is significantly larger (100 mil >> 0.15 mil), so I expect to heavily underfit. I am thinking I can comfortably afford to make `n_hidden` larger.\n",
    "> - I have a 10MB dataset and running a 10 million parameter model. I'm slightly nervous and I'm carefully monitoring my validation loss. If it's larger than my training loss then I may want to try to increase dropout a bit and see if that helps the validation loss.\n",
    "\n",
    "> ### Best models strategy\n",
    "\n",
    ">The winning strategy to obtaining very good models (if you have the compute time) is to always err on making the network larger (as large as you're willing to wait for it to compute) and then try different dropout values (between 0,1). Whatever model has the best validation performance (the loss, written in the checkpoint filename, low is good) is the one you should use in the end.\n",
    "\n",
    ">It is very common in deep learning to run many different models with many different hyperparameter settings, and in the end take whatever checkpoint gave the best validation performance.\n",
    "\n",
    ">By the way, the size of your training and validation splits are also parameters. Make sure you have a decent amount of data in your validation set or otherwise the validation performance will be noisy and not very informative."
   ]
  },
  {
   "cell_type": "markdown",
   "metadata": {},
   "source": [
    "## Checkpoint\n",
    "\n",
    "After training, we'll save the model so we can load it again later if we need too. Here I'm saving the parameters needed to create the same architecture, the hidden layer hyperparameters and the text characters."
   ]
  },
  {
   "cell_type": "code",
   "execution_count": 17,
   "metadata": {},
   "outputs": [],
   "source": [
    "# change the name, for saving multiple files\n",
    "model_name = 'rnn_x_epoch.net'\n",
    "\n",
    "checkpoint = {'n_hidden': net.n_hidden,\n",
    "              'n_layers': net.n_layers,\n",
    "              'state_dict': net.state_dict(),\n",
    "              'tokens': net.chars}\n",
    "\n",
    "with open(model_name, 'wb') as f:\n",
    "    torch.save(checkpoint, f)"
   ]
  },
  {
   "cell_type": "markdown",
   "metadata": {},
   "source": [
    "---\n",
    "## Making Predictions\n",
    "\n",
    "Now that the model is trained, we'll want to sample from it and make predictions about next characters! To sample, we pass in a character and have the network predict the next character. Then we take that character, pass it back in, and get another predicted character. Just keep doing this and you'll generate a bunch of text!\n",
    "\n",
    "### A note on the `predict`  function\n",
    "\n",
    "The output of our RNN is from a fully-connected layer and it outputs a **distribution of next-character scores**.\n",
    "\n",
    "> To actually get the next character, we apply a softmax function, which gives us a *probability* distribution that we can then sample to predict the next character.\n",
    "\n",
    "### Top K sampling\n",
    "\n",
    "Our predictions come from a categorical probability distribution over all the possible characters. We can make the sample text and make it more reasonable to handle (with less variables) by only considering some $K$ most probable characters. This will prevent the network from giving us completely absurd characters while allowing it to introduce some noise and randomness into the sampled text. Read more about [topk, here](https://pytorch.org/docs/stable/torch.html#torch.topk).\n"
   ]
  },
  {
   "cell_type": "code",
   "execution_count": 18,
   "metadata": {},
   "outputs": [],
   "source": [
    "def predict(net, char, h=None, top_k=None):\n",
    "        ''' Given a character, predict the next character.\n",
    "            Returns the predicted character and the hidden state.\n",
    "        '''\n",
    "        \n",
    "        # tensor inputs\n",
    "        x = np.array([[net.char2int[char]]])\n",
    "        x = one_hot_encode(x, len(net.chars))\n",
    "        inputs = torch.from_numpy(x)\n",
    "        \n",
    "        if(train_on_gpu):\n",
    "            inputs = inputs.cuda()\n",
    "        \n",
    "        # detach hidden state from history\n",
    "        h = tuple([each.data for each in h])\n",
    "        # get the output of the model\n",
    "        out, h = net(inputs, h)\n",
    "\n",
    "        # get the character probabilities\n",
    "        p = F.softmax(out, dim=1).data\n",
    "        if(train_on_gpu):\n",
    "            p = p.cpu() # move to cpu\n",
    "        \n",
    "        # get top characters\n",
    "        if top_k is None:\n",
    "            top_ch = np.arange(len(net.chars))\n",
    "        else:\n",
    "            p, top_ch = p.topk(top_k)\n",
    "            top_ch = top_ch.numpy().squeeze()\n",
    "        \n",
    "        # select the likely next character with some element of randomness\n",
    "        p = p.numpy().squeeze()\n",
    "        char = np.random.choice(top_ch, p=p/p.sum())\n",
    "        \n",
    "        # return the encoded value of the predicted char and the hidden state\n",
    "        return net.int2char[char], h"
   ]
  },
  {
   "cell_type": "markdown",
   "metadata": {},
   "source": [
    "### Priming and generating text \n",
    "\n",
    "Typically you'll want to prime the network so you can build up a hidden state. Otherwise the network will start out generating characters at random. In general the first bunch of characters will be a little rough since it hasn't built up a long history of characters to predict from."
   ]
  },
  {
   "cell_type": "code",
   "execution_count": 19,
   "metadata": {},
   "outputs": [],
   "source": [
    "def sample(net, size, prime='The', top_k=None):\n",
    "        \n",
    "    if(train_on_gpu):\n",
    "        net.cuda()\n",
    "    else:\n",
    "        net.cpu()\n",
    "    \n",
    "    net.eval() # eval mode\n",
    "    \n",
    "    # First off, run through the prime characters\n",
    "    chars = [ch for ch in prime]\n",
    "    h = net.init_hidden(1)\n",
    "    for ch in prime:\n",
    "        char, h = predict(net, ch, h, top_k=top_k)\n",
    "\n",
    "    chars.append(char)\n",
    "    \n",
    "    # Now pass in the previous character and get a new one\n",
    "    for ii in range(size):\n",
    "        char, h = predict(net, chars[-1], h, top_k=top_k)\n",
    "        chars.append(char)\n",
    "\n",
    "    return ''.join(chars)"
   ]
  },
  {
   "cell_type": "code",
   "execution_count": 20,
   "metadata": {},
   "outputs": [
    {
     "name": "stdout",
     "output_type": "stream",
     "text": [
      "Annat the botilions and whace to tay to timp, he said the shround till, an atting of the poitt with her\n",
      "alaring. \"What it\n",
      "as in the lither what I say him,.\n",
      "\n",
      "Ard as it had be so at it to have\n",
      "and she had been had seethy and the cornse,\n",
      "and that I wan there\n",
      "whach a shuch her horsing the said all an abrorge, hore they was to hors of the came.\n",
      "\n",
      "\"I was all at the peatalt, and the lever, and they she can to see of him, the converstal all all the stachion, and asterst to be and and though hurden on till the seed off\n",
      "his fate of\n",
      "critcion taken of has tore to she shime, and were to his haspent. And the chompirition, but the posess and with she the porsate, as he canten that\n",
      "we the pealar to allos though he was begined that at the princonssess, that with her so the prace, and there,\n",
      "and she disted to him to his saight whith her had strile wat a latt and stepent had had said as that his blat where her asked her, the samines was his bother tried has this thought, too had ale all that he went that he wo\n"
     ]
    }
   ],
   "source": [
    "print(sample(net, 1000, prime='Anna', top_k=5))"
   ]
  },
  {
   "cell_type": "markdown",
   "metadata": {},
   "source": [
    "## Loading a checkpoint"
   ]
  },
  {
   "cell_type": "code",
   "execution_count": 21,
   "metadata": {},
   "outputs": [],
   "source": [
    "# Here we have loaded in a model that trained over 20 epochs `rnn_20_epoch.net`\n",
    "with open('rnn_x_epoch.net', 'rb') as f:\n",
    "    checkpoint = torch.load(f)\n",
    "    \n",
    "loaded = CharRNN(checkpoint['tokens'], n_hidden=checkpoint['n_hidden'], n_layers=checkpoint['n_layers'])\n",
    "loaded.load_state_dict(checkpoint['state_dict'])"
   ]
  },
  {
   "cell_type": "code",
   "execution_count": 22,
   "metadata": {},
   "outputs": [
    {
     "name": "stdout",
     "output_type": "stream",
     "text": [
      "And Levin said to seeter on taken on to his sount, the felt him, and thought he has bele with\n",
      "and the\n",
      "farich with a still, he had stenter him.\n",
      "\n",
      "\"I wanted as his thoure and said, thoul his as oun the sect taking that. I whut he's ast there the paricaling\n",
      "to so to the stand, tiknot. Her till but all a colning to the bourd that there horse of a could ant wours her said of to the\n",
      "finter and was as at alathan of him.\n",
      "\n",
      "She was an the bat the croing one his hand the shiss to the course of the for his sattered him, but a petting he with at the point. Sercaine I't this\n",
      "was to the soul that stack of his could been the seething with\n",
      "her her was and with he suld of, the censing and as that have was she\n",
      "he was stented to her what and said thore, and with the carration\n",
      "and what a stace of the sort. \"Told\n",
      "you and mare one a lonces, but you sead, and he do to shall the billy triges as the sectian.\"\n",
      "\n",
      "\"Oh, I call it whele at the shower, that he had see to see, and to seeme on ableat, and there he's seritially other so mith in once. And say, I do,\"\n",
      "\n",
      "\"I she's the pittent,\" sind\n",
      "all the stalle, and she considing his sompat and what the compless, and and was to him the packent with\n",
      "a mar hersell\n",
      "of some of hast. He cauted and all at and samply there, and whilive. The facial of a pones of the cried as the shroom, how that the chellat have\n",
      "the charraly, and there will be at alw the\n",
      "becare, but sail, and shore\n",
      "and she could be thought as a can her with her to be to home and. \"That was a constice,\n",
      "a dring, that it to though, and say, there as as it, and as that\n",
      "taken and to and sawilf, that it's an the laster and an antwing to that it was a crosed to so him and that he wan of the sould and would his hast of her. The seere the shates worl, buch at the mise the sore to be, and the cout on a crigings of all the carrity\n",
      "and show ans word,\"\n",
      "said Stearovits, who his head a leally, was she had stopt on the\n",
      "for his hand.\n",
      "\n",
      "Sergoy\n",
      "Ivenovitch at her herself with him of\n",
      "her hards,\" the\n",
      "shepsely that the should a mont \n"
     ]
    }
   ],
   "source": [
    "# Sample using a loaded model\n",
    "print(sample(loaded, 2000, top_k=5, prime=\"And Levin said\"))"
   ]
  },
  {
   "cell_type": "code",
   "execution_count": null,
   "metadata": {
    "collapsed": true
   },
   "outputs": [],
   "source": []
  }
 ],
 "metadata": {
  "kernelspec": {
   "display_name": "Python 3",
   "language": "python",
   "name": "python3"
  },
  "language_info": {
   "codemirror_mode": {
    "name": "ipython",
    "version": 3
   },
   "file_extension": ".py",
   "mimetype": "text/x-python",
   "name": "python",
   "nbconvert_exporter": "python",
   "pygments_lexer": "ipython3",
   "version": "3.6.3"
  }
 },
 "nbformat": 4,
 "nbformat_minor": 2
}
