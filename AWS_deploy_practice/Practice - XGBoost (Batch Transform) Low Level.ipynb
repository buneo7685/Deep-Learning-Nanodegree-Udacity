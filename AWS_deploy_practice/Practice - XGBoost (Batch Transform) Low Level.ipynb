{
 "cells": [
  {
   "cell_type": "code",
   "execution_count": 1,
   "metadata": {},
   "outputs": [],
   "source": [
    "%matplotlib inline\n",
    "\n",
    "import os\n",
    "import numpy as np\n",
    "import pandas as pd\n",
    "import time\n",
    "from time import gmtime , strftime\n",
    "import matplotlib.pyplot as plt\n",
    "\n",
    "from sklearn.datasets import load_boston\n",
    "import sklearn.model_selection"
   ]
  },
  {
   "cell_type": "code",
   "execution_count": 3,
   "metadata": {},
   "outputs": [],
   "source": [
    "import sagemaker\n",
    "from sagemaker import get_execution_role\n",
    "from sagemaker.amazon.amazon_estimator import get_image_uri\n",
    "\n",
    "session = sagemaker.Session()\n",
    "\n",
    "role = get_execution_role()"
   ]
  },
  {
   "cell_type": "code",
   "execution_count": 4,
   "metadata": {},
   "outputs": [],
   "source": [
    "boston = load_boston()"
   ]
  },
  {
   "cell_type": "code",
   "execution_count": 6,
   "metadata": {},
   "outputs": [],
   "source": [
    "X_bos_pd = pd.DataFrame(boston.data , columns = boston.feature_names)\n",
    "Y_bos_pd = pd.DataFrame(boston.target)\n",
    "\n",
    "X_train , X_test , Y_train , Y_test = sklearn.model_selection.train_test_split(X_bos_pd,Y_bos_pd,test_size = 0.33)\n",
    "X_train , X_val , Y_train , Y_val = sklearn.model_selection.train_test_split(X_train,Y_train,test_size = 0.33)"
   ]
  },
  {
   "cell_type": "code",
   "execution_count": 7,
   "metadata": {},
   "outputs": [],
   "source": [
    "data_dir = '../data/boston'\n",
    "if not os.path.exists(data_dir):\n",
    "    os.makedirs(data_dir)"
   ]
  },
  {
   "cell_type": "code",
   "execution_count": 8,
   "metadata": {},
   "outputs": [
    {
     "name": "stderr",
     "output_type": "stream",
     "text": [
      "/home/ec2-user/anaconda3/envs/pytorch_p36/lib/python3.6/site-packages/pandas/core/indexes/range.py:453: RuntimeWarning: '<' not supported between instances of 'int' and 'str', sort order is undefined for incomparable objects\n",
      "  return self._int64index.union(other)\n"
     ]
    }
   ],
   "source": [
    "X_test.to_csv(os.path.join(data_dir,'test.csv'),header=False,index =False)\n",
    "\n",
    "pd.concat([Y_val,X_val]).to_csv(os.path.join(data_dir,'validation.csv'), header=False ,index = False)\n",
    "pd.concat([Y_train,X_train]).to_csv(os.path.join(data_dir,'train.csv'), header = False , index = False)"
   ]
  },
  {
   "cell_type": "code",
   "execution_count": 20,
   "metadata": {},
   "outputs": [],
   "source": [
    "prefix = 'boston-xgboost-LL'\n",
    "\n",
    "train_location = session.upload_data(os.path.join(data_dir,'train.csv'),key_prefix = prefix)\n",
    "test_location = session.upload_data(os.path.join(data_dir,'test.csv'),key_prefix = prefix)\n",
    "val_location = session.upload_data(os.path.join(data_dir,'validation.csv'),key_prefix = prefix)"
   ]
  },
  {
   "cell_type": "code",
   "execution_count": 24,
   "metadata": {},
   "outputs": [],
   "source": [
    "container = get_image_uri(session.boto_region_name , 'xgboost')\n",
    "training_params ={}\n",
    "training_params['RoleArn'] = role\n",
    "training_params['AlgorithmSpecification'] = {'TrainingImage':container , 'TrainingInputMode':'File'}\n",
    "\n",
    "training_params['OutputDataConfig'] ={'S3OutputPath':'s3://'+session.default_bucket()+'/'+prefix + '/output'}\n",
    "\n",
    "training_params['ResourceConfig'] = {'InstanceCount': 1 ,\n",
    "                                     'InstanceType':'ml.m4.xlarge',\n",
    "                                     'VolumeSizeInGB':5}\n",
    "\n",
    "training_params['StoppingCondition'] = {'MaxRuntimeInSeconds':86400}\n",
    "\n",
    "training_params['HyperParameters'] ={'max_depth':'5',\n",
    "                                     'eta':'0.2',\n",
    "                                     'gamma':'4',\n",
    "                                     'min_child_weight':'6',\n",
    "                                     'subsample':'0.8',\n",
    "                                     'objective':'reg:linear',\n",
    "                                     'early_stopping_rounds':'10',\n",
    "                                     'num_round':'200'}\n",
    "training_params['InputDataConfig'] = [{'ChannelName':\"train\",'DataSource':{\n",
    "                            'S3DataSource':{'S3DataType':'S3Prefix',\n",
    "                                            'S3Uri':train_location,\n",
    "                                            'S3DataDistributionType':'FullyReplicated'}},\n",
    "                                      'ContentType':'csv',\n",
    "                                      'CompressionType':'None'},\n",
    "                                      \n",
    "                                      \n",
    "                                     {'ChannelName':\"validation\",'DataSource':{\n",
    "                            'S3DataSource':{'S3DataType':'S3Prefix',\n",
    "                                            'S3Uri':valid_location,\n",
    "                                            'S3DataDistributionType':'FullyReplicated'}},\n",
    "                                      'ContentType':'csv',\n",
    "                                      'CompressionType':'None'},]"
   ]
  },
  {
   "cell_type": "code",
   "execution_count": 25,
   "metadata": {},
   "outputs": [],
   "source": [
    "training_job_name = 'xgboost-boston-'+strftime('%Y-%m-%d-%H-%M-%S' , gmtime())\n",
    "training_params['TrainingJobName'] = training_job_name\n",
    "training_job = session.sagemaker_client.create_training_job(**training_params)"
   ]
  },
  {
   "cell_type": "code",
   "execution_count": 26,
   "metadata": {},
   "outputs": [
    {
     "name": "stdout",
     "output_type": "stream",
     "text": [
      "2019-04-29 14:39:27 Starting - Launching requested ML instances......\n",
      "2019-04-29 14:40:28 Starting - Preparing the instances for training......\n",
      "2019-04-29 14:41:11 Downloading - Downloading input data...\n",
      "2019-04-29 14:41:41 Training - Downloading the training image.\n",
      "\u001b[31mArguments: train\u001b[0m\n",
      "\u001b[31m[2019-04-29:14:42:01:INFO] Running standalone xgboost training.\u001b[0m\n",
      "\u001b[31m[2019-04-29:14:42:01:INFO] File size need to be processed in the node: 0.03mb. Available memory size in the node: 8407.09mb\u001b[0m\n",
      "\u001b[31m[2019-04-29:14:42:01:INFO] Determined delimiter of CSV input is ','\u001b[0m\n",
      "\u001b[31m[14:42:01] S3DistributionType set as FullyReplicated\u001b[0m\n",
      "\u001b[31m[14:42:01] 454x13 matrix with 5675 entries loaded from /opt/ml/input/data/train?format=csv&label_column=0&delimiter=,\u001b[0m\n",
      "\u001b[31m[2019-04-29:14:42:01:INFO] Determined delimiter of CSV input is ','\u001b[0m\n",
      "\u001b[31m[14:42:01] S3DistributionType set as FullyReplicated\u001b[0m\n",
      "\u001b[31m[14:42:01] 224x13 matrix with 2800 entries loaded from /opt/ml/input/data/validation?format=csv&label_column=0&delimiter=,\u001b[0m\n",
      "\u001b[31m[14:42:01] src/tree/updater_prune.cc:74: tree pruning end, 1 roots, 2 extra nodes, 0 pruned nodes, max_depth=1\u001b[0m\n",
      "\u001b[31m[0]#011train-rmse:13.6441#011validation-rmse:14.4572\u001b[0m\n",
      "\u001b[31mMultiple eval metrics have been passed: 'validation-rmse' will be used for early stopping.\n",
      "\u001b[0m\n",
      "\u001b[31mWill train until validation-rmse hasn't improved in 10 rounds.\u001b[0m\n",
      "\u001b[31m[14:42:01] src/tree/updater_prune.cc:74: tree pruning end, 1 roots, 2 extra nodes, 0 pruned nodes, max_depth=1\u001b[0m\n",
      "\u001b[31m[1]#011train-rmse:11.5227#011validation-rmse:12.3815\u001b[0m\n",
      "\u001b[31m[14:42:01] src/tree/updater_prune.cc:74: tree pruning end, 1 roots, 2 extra nodes, 0 pruned nodes, max_depth=1\u001b[0m\n",
      "\u001b[31m[2]#011train-rmse:9.91975#011validation-rmse:10.8197\u001b[0m\n",
      "\u001b[31m[14:42:01] src/tree/updater_prune.cc:74: tree pruning end, 1 roots, 2 extra nodes, 0 pruned nodes, max_depth=1\u001b[0m\n",
      "\u001b[31m[3]#011train-rmse:8.72186#011validation-rmse:9.65508\u001b[0m\n",
      "\u001b[31m[14:42:01] src/tree/updater_prune.cc:74: tree pruning end, 1 roots, 2 extra nodes, 0 pruned nodes, max_depth=1\u001b[0m\n",
      "\u001b[31m[4]#011train-rmse:7.85806#011validation-rmse:8.81361\u001b[0m\n",
      "\u001b[31m[14:42:01] src/tree/updater_prune.cc:74: tree pruning end, 1 roots, 2 extra nodes, 0 pruned nodes, max_depth=1\u001b[0m\n",
      "\u001b[31m[5]#011train-rmse:7.22894#011validation-rmse:8.19556\u001b[0m\n",
      "\u001b[31m[14:42:01] src/tree/updater_prune.cc:74: tree pruning end, 1 roots, 2 extra nodes, 0 pruned nodes, max_depth=1\u001b[0m\n",
      "\u001b[31m[6]#011train-rmse:6.80871#011validation-rmse:7.77559\u001b[0m\n",
      "\u001b[31m[14:42:01] src/tree/updater_prune.cc:74: tree pruning end, 1 roots, 2 extra nodes, 0 pruned nodes, max_depth=1\u001b[0m\n",
      "\u001b[31m[7]#011train-rmse:6.58147#011validation-rmse:7.54298\u001b[0m\n",
      "\u001b[31m[14:42:01] src/tree/updater_prune.cc:74: tree pruning end, 1 roots, 2 extra nodes, 0 pruned nodes, max_depth=1\u001b[0m\n",
      "\u001b[31m[8]#011train-rmse:6.40604#011validation-rmse:7.35789\u001b[0m\n",
      "\u001b[31m[14:42:01] src/tree/updater_prune.cc:74: tree pruning end, 1 roots, 2 extra nodes, 0 pruned nodes, max_depth=1\u001b[0m\n",
      "\u001b[31m[9]#011train-rmse:6.28947#011validation-rmse:7.22976\u001b[0m\n",
      "\u001b[31m[14:42:01] src/tree/updater_prune.cc:74: tree pruning end, 1 roots, 2 extra nodes, 0 pruned nodes, max_depth=1\u001b[0m\n",
      "\u001b[31m[10]#011train-rmse:6.21448#011validation-rmse:7.14304\u001b[0m\n",
      "\u001b[31m[14:42:01] src/tree/updater_prune.cc:74: tree pruning end, 1 roots, 2 extra nodes, 0 pruned nodes, max_depth=1\u001b[0m\n",
      "\u001b[31m[11]#011train-rmse:6.17694#011validation-rmse:7.0973\u001b[0m\n",
      "\u001b[31m[14:42:01] src/tree/updater_prune.cc:74: tree pruning end, 1 roots, 2 extra nodes, 0 pruned nodes, max_depth=1\u001b[0m\n",
      "\u001b[31m[12]#011train-rmse:6.13522#011validation-rmse:7.04295\u001b[0m\n",
      "\u001b[31m[14:42:01] src/tree/updater_prune.cc:74: tree pruning end, 1 roots, 2 extra nodes, 0 pruned nodes, max_depth=1\u001b[0m\n",
      "\u001b[31m[13]#011train-rmse:6.11406#011validation-rmse:7.01264\u001b[0m\n",
      "\u001b[31m[14:42:01] src/tree/updater_prune.cc:74: tree pruning end, 1 roots, 2 extra nodes, 0 pruned nodes, max_depth=1\u001b[0m\n",
      "\u001b[31m[14]#011train-rmse:6.09925#011validation-rmse:6.98903\u001b[0m\n",
      "\u001b[31m[14:42:01] src/tree/updater_prune.cc:74: tree pruning end, 1 roots, 2 extra nodes, 0 pruned nodes, max_depth=1\u001b[0m\n",
      "\u001b[31m[15]#011train-rmse:6.0917#011validation-rmse:6.97539\u001b[0m\n",
      "\u001b[31m[14:42:01] src/tree/updater_prune.cc:74: tree pruning end, 1 roots, 2 extra nodes, 0 pruned nodes, max_depth=1\u001b[0m\n",
      "\u001b[31m[16]#011train-rmse:6.08777#011validation-rmse:6.96745\u001b[0m\n",
      "\u001b[31m[14:42:01] src/tree/updater_prune.cc:74: tree pruning end, 1 roots, 2 extra nodes, 0 pruned nodes, max_depth=1\u001b[0m\n",
      "\u001b[31m[17]#011train-rmse:6.08549#011validation-rmse:6.96236\u001b[0m\n",
      "\u001b[31m[14:42:01] src/tree/updater_prune.cc:74: tree pruning end, 1 roots, 2 extra nodes, 0 pruned nodes, max_depth=1\u001b[0m\n",
      "\u001b[31m[18]#011train-rmse:6.08258#011validation-rmse:6.95496\u001b[0m\n",
      "\u001b[31m[14:42:01] src/tree/updater_prune.cc:74: tree pruning end, 1 roots, 2 extra nodes, 0 pruned nodes, max_depth=1\u001b[0m\n",
      "\u001b[31m[19]#011train-rmse:6.08163#011validation-rmse:6.95212\u001b[0m\n",
      "\u001b[31m[14:42:01] src/tree/updater_prune.cc:74: tree pruning end, 1 roots, 2 extra nodes, 0 pruned nodes, max_depth=1\u001b[0m\n",
      "\u001b[31m[20]#011train-rmse:6.08025#011validation-rmse:6.94729\u001b[0m\n",
      "\u001b[31m[14:42:01] src/tree/updater_prune.cc:74: tree pruning end, 1 roots, 0 extra nodes, 2 pruned nodes, max_depth=0\u001b[0m\n",
      "\u001b[31m[21]#011train-rmse:6.08016#011validation-rmse:6.94691\u001b[0m\n",
      "\u001b[31m[14:42:01] src/tree/updater_prune.cc:74: tree pruning end, 1 roots, 2 extra nodes, 0 pruned nodes, max_depth=1\u001b[0m\n",
      "\u001b[31m[22]#011train-rmse:6.07918#011validation-rmse:6.94187\u001b[0m\n",
      "\u001b[31m[14:42:01] src/tree/updater_prune.cc:74: tree pruning end, 1 roots, 0 extra nodes, 2 pruned nodes, max_depth=0\u001b[0m\n",
      "\u001b[31m[23]#011train-rmse:6.07921#011validation-rmse:6.94209\u001b[0m\n",
      "\u001b[31m[14:42:01] src/tree/updater_prune.cc:74: tree pruning end, 1 roots, 0 extra nodes, 2 pruned nodes, max_depth=0\u001b[0m\n",
      "\u001b[31m[24]#011train-rmse:6.07931#011validation-rmse:6.94274\u001b[0m\n",
      "\u001b[31m[14:42:01] src/tree/updater_prune.cc:74: tree pruning end, 1 roots, 2 extra nodes, 0 pruned nodes, max_depth=1\u001b[0m\n",
      "\u001b[31m[25]#011train-rmse:6.0789#011validation-rmse:6.93936\u001b[0m\n",
      "\u001b[31m[14:42:01] src/tree/updater_prune.cc:74: tree pruning end, 1 roots, 0 extra nodes, 2 pruned nodes, max_depth=0\u001b[0m\n",
      "\u001b[31m[26]#011train-rmse:6.079#011validation-rmse:6.94027\u001b[0m\n",
      "\u001b[31m[14:42:01] src/tree/updater_prune.cc:74: tree pruning end, 1 roots, 2 extra nodes, 0 pruned nodes, max_depth=1\u001b[0m\n",
      "\u001b[31m[27]#011train-rmse:6.07912#011validation-rmse:6.93288\u001b[0m\n",
      "\u001b[31m[14:42:01] src/tree/updater_prune.cc:74: tree pruning end, 1 roots, 0 extra nodes, 2 pruned nodes, max_depth=0\u001b[0m\n",
      "\u001b[31m[28]#011train-rmse:6.07924#011validation-rmse:6.93216\u001b[0m\n",
      "\u001b[31m[14:42:01] src/tree/updater_prune.cc:74: tree pruning end, 1 roots, 2 extra nodes, 0 pruned nodes, max_depth=1\u001b[0m\n",
      "\u001b[31m[29]#011train-rmse:6.07883#011validation-rmse:6.93553\u001b[0m\n",
      "\u001b[31m[14:42:01] src/tree/updater_prune.cc:74: tree pruning end, 1 roots, 0 extra nodes, 2 pruned nodes, max_depth=0\u001b[0m\n",
      "\u001b[31m[30]#011train-rmse:6.07881#011validation-rmse:6.93597\u001b[0m\n",
      "\u001b[31m[14:42:01] src/tree/updater_prune.cc:74: tree pruning end, 1 roots, 0 extra nodes, 2 pruned nodes, max_depth=0\u001b[0m\n",
      "\u001b[31m[31]#011train-rmse:6.07882#011validation-rmse:6.93669\u001b[0m\n",
      "\u001b[31m[14:42:01] src/tree/updater_prune.cc:74: tree pruning end, 1 roots, 0 extra nodes, 2 pruned nodes, max_depth=0\u001b[0m\n",
      "\u001b[31m[32]#011train-rmse:6.07886#011validation-rmse:6.93738\u001b[0m\n",
      "\u001b[31m[14:42:01] src/tree/updater_prune.cc:74: tree pruning end, 1 roots, 0 extra nodes, 2 pruned nodes, max_depth=0\u001b[0m\n",
      "\u001b[31m[33]#011train-rmse:6.07883#011validation-rmse:6.93682\u001b[0m\n",
      "\u001b[31m[14:42:01] src/tree/updater_prune.cc:74: tree pruning end, 1 roots, 2 extra nodes, 0 pruned nodes, max_depth=1\u001b[0m\n",
      "\u001b[31m[34]#011train-rmse:6.07888#011validation-rmse:6.93888\u001b[0m\n",
      "\u001b[31m[14:42:01] src/tree/updater_prune.cc:74: tree pruning end, 1 roots, 0 extra nodes, 2 pruned nodes, max_depth=0\u001b[0m\n",
      "\u001b[31m[35]#011train-rmse:6.07881#011validation-rmse:6.93781\u001b[0m\n",
      "\u001b[31m[14:42:01] src/tree/updater_prune.cc:74: tree pruning end, 1 roots, 2 extra nodes, 0 pruned nodes, max_depth=1\u001b[0m\n",
      "\u001b[31m[36]#011train-rmse:6.079#011validation-rmse:6.93358\u001b[0m\n",
      "\u001b[31m[14:42:01] src/tree/updater_prune.cc:74: tree pruning end, 1 roots, 0 extra nodes, 2 pruned nodes, max_depth=0\u001b[0m\n",
      "\u001b[31m[37]#011train-rmse:6.07892#011validation-rmse:6.93444\u001b[0m\n",
      "\u001b[31m[14:42:01] src/tree/updater_prune.cc:74: tree pruning end, 1 roots, 0 extra nodes, 2 pruned nodes, max_depth=0\u001b[0m\n",
      "\u001b[31m[38]#011train-rmse:6.07892#011validation-rmse:6.9345\u001b[0m\n",
      "\u001b[31mStopping. Best iteration:\u001b[0m\n",
      "\u001b[31m[28]#011train-rmse:6.07924#011validation-rmse:6.93216\n",
      "\u001b[0m\n"
     ]
    },
    {
     "name": "stdout",
     "output_type": "stream",
     "text": [
      "\n",
      "2019-04-29 14:42:13 Uploading - Uploading generated training model\n",
      "2019-04-29 14:42:13 Completed - Training job completed\n",
      "Billable seconds: 63\n"
     ]
    }
   ],
   "source": [
    "session.logs_for_job(training_job_name , wait = True)"
   ]
  },
  {
   "cell_type": "code",
   "execution_count": 27,
   "metadata": {},
   "outputs": [],
   "source": [
    "training_job_info = session.sagemaker_client.describe_training_job(TrainingJobName=training_job_name)\n",
    "model_artifacts = train_job_info['ModelArtifacts']['S3ModelArtifacts']"
   ]
  },
  {
   "cell_type": "code",
   "execution_count": 32,
   "metadata": {},
   "outputs": [],
   "source": [
    "model_name = training_job_name + '-model'\n",
    "primary_container = {\"Image\":container , 'ModelDataUrl':model_artifacts}\n",
    "model_info = session.sagemaker_client.create_model(ModelName = model_name,\n",
    "                                                  ExecutionRoleArn = role,\n",
    "                                                  PrimaryContainer = primary_container)"
   ]
  },
  {
   "cell_type": "code",
   "execution_count": 37,
   "metadata": {},
   "outputs": [],
   "source": [
    "transform_job_name = 'boston-xgboost-batch-transform-'+strftime('%Y-%m-%d-%H-%M-%S' , gmtime())\n",
    "transform_request = {\n",
    "    \n",
    "    'TransformJobName':transform_job_name,\n",
    "    'ModelName':model_name,\n",
    "    'MaxConcurrentTransforms':1, #一次該使用幾個計算實例\n",
    "    'MaxPayloadInMB':6, \n",
    "    'BatchStrategy':'MultiRecord',\n",
    "    'TransformOutput':{'S3OutputPath':'s3://{}/{}/batch-transform/'.format(session.default_bucket(),prefix)},\n",
    "    'TransformInput':{'ContentType':'text/csv',\n",
    "                      'SplitType': 'Line',\n",
    "                      'DataSource':{'S3DataSource':{'S3DataType':'S3Prefix',\n",
    "                                                    'S3Uri':test_location}}},\n",
    "    'TransformResources':{'InstanceType':'ml.m4.xlarge',\n",
    "                          'InstanceCount':1}\n",
    "}"
   ]
  },
  {
   "cell_type": "code",
   "execution_count": 38,
   "metadata": {},
   "outputs": [],
   "source": [
    "transform_response = session.sagemaker_client.create_transform_job(**transform_request)"
   ]
  },
  {
   "cell_type": "code",
   "execution_count": 39,
   "metadata": {},
   "outputs": [
    {
     "name": "stdout",
     "output_type": "stream",
     "text": [
      "...............................!\n"
     ]
    }
   ],
   "source": [
    "transform_desc = session.wait_for_transform_job(transform_job_name)"
   ]
  },
  {
   "cell_type": "code",
   "execution_count": 40,
   "metadata": {},
   "outputs": [],
   "source": [
    "transform_output = 's3://{}/{}/batch-transform/'.format(session.default_bucket(),prefix)"
   ]
  },
  {
   "cell_type": "code",
   "execution_count": 41,
   "metadata": {},
   "outputs": [
    {
     "name": "stdout",
     "output_type": "stream",
     "text": [
      "Completed 2.8 KiB/2.8 KiB (48.7 KiB/s) with 1 file(s) remaining\r",
      "download: s3://sagemaker-us-east-2-802608965906/boston-xgboost-LL/batch-transform/test.csv.out to ../data/boston/test.csv.out\r\n"
     ]
    }
   ],
   "source": [
    "!aws s3 cp --recursive $transform_output $data_dir"
   ]
  },
  {
   "cell_type": "code",
   "execution_count": 42,
   "metadata": {},
   "outputs": [],
   "source": [
    "Y_pred = pd.read_csv(os.path.join(data_dir,'test.csv.out'),header = None)"
   ]
  },
  {
   "cell_type": "code",
   "execution_count": 44,
   "metadata": {},
   "outputs": [
    {
     "data": {
      "text/plain": [
       "Text(0.5,1,'Median Price vs Predicted Price')"
      ]
     },
     "execution_count": 44,
     "metadata": {},
     "output_type": "execute_result"
    },
    {
     "data": {
      "image/png": "[encoded data removed]",
      "text/plain": [
       "<Figure size 432x288 with 1 Axes>"
      ]
     },
     "metadata": {},
     "output_type": "display_data"
    }
   ],
   "source": [
    "plt.scatter(Y_test, Y_pred)\n",
    "plt.xlabel(\"Median Price\")\n",
    "plt.ylabel(\"Predicted Price\")\n",
    "plt.title(\"Median Price vs Predicted Price\")"
   ]
  },
  {
   "cell_type": "code",
   "execution_count": 45,
   "metadata": {},
   "outputs": [],
   "source": [
    "!rm $data_dir/*\n",
    "!rmdir $data_dir"
   ]
  }
 ],
 "metadata": {
  "kernelspec": {
   "display_name": "conda_pytorch_p36",
   "language": "python",
   "name": "conda_pytorch_p36"
  },
  "language_info": {
   "codemirror_mode": {
    "name": "ipython",
    "version": 3
   },
   "file_extension": ".py",
   "mimetype": "text/x-python",
   "name": "python",
   "nbconvert_exporter": "python",
   "pygments_lexer": "ipython3",
   "version": "3.6.5"
  }
 },
 "nbformat": 4,
 "nbformat_minor": 2
}
